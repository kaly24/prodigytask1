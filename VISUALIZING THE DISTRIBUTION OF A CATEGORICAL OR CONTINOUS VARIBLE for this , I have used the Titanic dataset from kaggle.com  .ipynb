{
 "cells": [
  {
   "cell_type": "code",
   "execution_count": null,
   "id": "39541cd3",
   "metadata": {},
   "outputs": [],
   "source": [
    "import pandas as pd  \n",
    "import numpy as np   \n",
    "import matplotlib.pyplot as plt\n",
    "import seaborn as sns\n",
    "%matplotlib inline\n",
    "sns.set_style('darkgrid')"
   ]
  },
  {
   "cell_type": "code",
   "execution_count": null,
   "id": "3bd8a44a",
   "metadata": {},
   "outputs": [],
   "source": [
    "data=pd.read_csv('train.csv')"
   ]
  },
  {
   "cell_type": "code",
   "execution_count": null,
   "id": "a428a5cb",
   "metadata": {},
   "outputs": [],
   "source": [
    "data.head()"
   ]
  },
  {
   "cell_type": "code",
   "execution_count": null,
   "id": "1e3d8c37",
   "metadata": {},
   "outputs": [],
   "source": [
    "data.columns"
   ]
  },
  {
   "cell_type": "code",
   "execution_count": null,
   "id": "2844810a",
   "metadata": {},
   "outputs": [],
   "source": [
    "data.dtypes"
   ]
  },
  {
   "cell_type": "code",
   "execution_count": null,
   "id": "1b371982",
   "metadata": {},
   "outputs": [],
   "source": [
    "data['Survived']=data.Survived.map({0:'Not Survived',1:'Survived'})"
   ]
  },
  {
   "cell_type": "code",
   "execution_count": null,
   "id": "bb3ee1c5",
   "metadata": {},
   "outputs": [],
   "source": [
    "data['Pclass']=data.Pclass.map({1:'First Class',2:'Second Class',3:'Third Class'})\n"
   ]
  },
  {
   "cell_type": "code",
   "execution_count": null,
   "id": "9d3771c8",
   "metadata": {},
   "outputs": [],
   "source": [
    "data['Embarked'].nunique()"
   ]
  },
  {
   "cell_type": "code",
   "execution_count": null,
   "id": "0956bb7d",
   "metadata": {},
   "outputs": [],
   "source": [
    "data['Embarked']=data.Embarked.map({'C':'Cherbourg','Q':'Queenstown','S':'Southampton'})"
   ]
  },
  {
   "cell_type": "code",
   "execution_count": null,
   "id": "532374c8",
   "metadata": {},
   "outputs": [],
   "source": []
  },
  {
   "cell_type": "code",
   "execution_count": null,
   "id": "4f131fb8",
   "metadata": {},
   "outputs": [],
   "source": [
    "data.head()"
   ]
  },
  {
   "cell_type": "code",
   "execution_count": null,
   "id": "73ed52b6",
   "metadata": {},
   "outputs": [],
   "source": [
    "data.dtypes\n"
   ]
  },
  {
   "cell_type": "code",
   "execution_count": null,
   "id": "35805bed",
   "metadata": {},
   "outputs": [],
   "source": [
    "ax=sns.countplot(x='Sex',data=data)\n",
    "plt.title('Count of passangers as per gender')"
   ]
  },
  {
   "cell_type": "code",
   "execution_count": null,
   "id": "550e253a",
   "metadata": {},
   "outputs": [],
   "source": [
    "sns.countplot(x='Survived',data=data,hue='Sex')\n",
    "plt.title('Count of Survived/Non Survived')"
   ]
  },
  {
   "cell_type": "code",
   "execution_count": null,
   "id": "9a3e764f",
   "metadata": {},
   "outputs": [],
   "source": [
    "sns.countplot(x='Pclass',data=data,hue='Sex')\n",
    "plt.title('Class of Travel as per Gender')"
   ]
  },
  {
   "cell_type": "code",
   "execution_count": null,
   "id": "7247f4cc",
   "metadata": {},
   "outputs": [],
   "source": [
    "sns.countplot(x='Embarked',data=data)\n",
    "plt.title('Port of Embarked')\n",
    "plt.xlabel('Port')"
   ]
  },
  {
   "cell_type": "code",
   "execution_count": null,
   "id": "916665c5",
   "metadata": {},
   "outputs": [],
   "source": [
    "plt.scatter(x='Pclass',y='Fare',data=data)\n",
    "plt.title('Relation between Fare and Class of Travel of passangers')"
   ]
  },
  {
   "cell_type": "code",
   "execution_count": null,
   "id": "4c664179",
   "metadata": {},
   "outputs": [],
   "source": []
  },
  {
   "cell_type": "code",
   "execution_count": null,
   "id": "c8d11375",
   "metadata": {},
   "outputs": [],
   "source": []
  }
 ],
 "metadata": {
  "kernelspec": {
   "display_name": "Python 3 (ipykernel)",
   "language": "python",
   "name": "python3"
  },
  "language_info": {
   "codemirror_mode": {
    "name": "ipython",
    "version": 3
   },
   "file_extension": ".py",
   "mimetype": "text/x-python",
   "name": "python",
   "nbconvert_exporter": "python",
   "pygments_lexer": "ipython3",
   "version": "3.11.4"
  }
 },
 "nbformat": 4,
 "nbformat_minor": 5
}
